{
 "cells": [
  {
   "cell_type": "code",
   "execution_count": 3,
   "metadata": {},
   "outputs": [],
   "source": [
    "import numpy as np\n",
    "import matplotlib.pyplot as plt\n",
    "from random import shuffle\n",
    "from scipy.stats import zscore, pearsonr\n",
    "from mpl_toolkits.axes_grid1 import make_axes_locatable\n",
    "import pandas as pd\n",
    "import networkx as nx\n",
    "from sklearn.decomposition import PCA\n",
    "plt.rcParams.update({'font.size': 20})"
   ]
  },
  {
   "cell_type": "markdown",
   "metadata": {},
   "source": [
    "# Atelier: Analyse de réseaux - Épidémiologie"
   ]
  },
  {
   "cell_type": "markdown",
   "metadata": {},
   "source": [
    "Animé par: Antoine Légaré et Gabriel Genest"
   ]
  },
  {
   "cell_type": "code",
   "execution_count": 196,
   "metadata": {},
   "outputs": [],
   "source": [
    "class Epidemic:\n",
    "    \n",
    "    def __init__(self, N, I_0=1):\n",
    "        self.N = N\n",
    "        self.status = np.expand_dims(np.array([0] * N), axis=1)\n",
    "        self.status[:I_0, 0] = 1\n",
    "        np.random.shuffle(self.status)\n",
    "        self.A = np.zeros((N, N)) \n",
    "        \n",
    "    def initiateContacts(self, adjacencyMatrix):\n",
    "        self.A = adjacencyMatrix\n",
    "    \n",
    "    def simulate(self, duration, p_infection=0.1, p_recovery=0.01):\n",
    "        T = int(duration)\n",
    "        status = np.zeros((self.N, T)).astype('int')\n",
    "        status[:, 0] = self.status[:, -1]\n",
    "        for i in range(1, T):\n",
    "            recoveries = np.random.uniform(0, 1, self.N) > (1 - p_recovery)\n",
    "            status[recoveries, i] = 0\n",
    "            infectionProbabilities = p_infection * (self.A @ status[:, i-1])\n",
    "            infections = np.random.uniform(0, 1, self.N) < infectionProbabilities\n",
    "            status[infections, i] = 1\n",
    "        self.status = np.append(self.status, status[:, 1:], axis=1)"
   ]
  },
  {
   "cell_type": "code",
   "execution_count": 197,
   "metadata": {},
   "outputs": [],
   "source": [
    "def WSNetwork(N, k, p):\n",
    "    G = nx.watts_strogatz_graph(N, k, p)\n",
    "    matrix = nx.to_numpy_array(G)\n",
    "    return matrix"
   ]
  },
  {
   "cell_type": "code",
   "execution_count": 202,
   "metadata": {},
   "outputs": [],
   "source": [
    "epidemic = Epidemic(1000, I_0=100)\n",
    "epidemic.initiateContacts(WSNetwork(1000, 10, 0.2))\n",
    "epidemic.simulate(2500, p_infection=0.1, p_recovery=0.1)"
   ]
  },
  {
   "cell_type": "code",
   "execution_count": 203,
   "metadata": {},
   "outputs": [
    {
     "data": {
      "text/plain": [
       "[<matplotlib.lines.Line2D at 0x1add1cf4400>]"
      ]
     },
     "execution_count": 203,
     "metadata": {},
     "output_type": "execute_result"
    },
    {
     "data": {
      "image/png": "[encoded data removed]",
      "text/plain": [
       "<Figure size 432x288 with 1 Axes>"
      ]
     },
     "metadata": {
      "needs_background": "light"
     },
     "output_type": "display_data"
    }
   ],
   "source": [
    "plt.plot(np.mean(epidemic.status, axis=0))"
   ]
  },
  {
   "cell_type": "code",
   "execution_count": null,
   "metadata": {},
   "outputs": [],
   "source": []
  }
 ],
 "metadata": {
  "kernelspec": {
   "display_name": "Python 3",
   "language": "python",
   "name": "python3"
  },
  "language_info": {
   "codemirror_mode": {
    "name": "ipython",
    "version": 3
   },
   "file_extension": ".py",
   "mimetype": "text/x-python",
   "name": "python",
   "nbconvert_exporter": "python",
   "pygments_lexer": "ipython3",
   "version": "3.7.3"
  }
 },
 "nbformat": 4,
 "nbformat_minor": 2
}
